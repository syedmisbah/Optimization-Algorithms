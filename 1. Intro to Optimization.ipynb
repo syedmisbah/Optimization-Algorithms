{
 "cells": [
  {
   "cell_type": "code",
   "execution_count": 1,
   "metadata": {},
   "outputs": [],
   "source": [
    "#Import ortools solver\n",
    "from ortools.linear_solver import pywraplp"
   ]
  },
  {
   "cell_type": "code",
   "execution_count": 2,
   "metadata": {},
   "outputs": [],
   "source": [
    "#Creating a solver object \n",
    "solver_lin = pywraplp.Solver('Swiggy Food Solver',pywraplp.Solver.GLOP_LINEAR_PROGRAMMING)"
   ]
  },
  {
   "cell_type": "code",
   "execution_count": 3,
   "metadata": {},
   "outputs": [],
   "source": [
    "#Step 1 - Create Decision variables\n",
    "\n",
    "# x[0] for number of biryanis \n",
    "# x[1] for number of Bowls\n",
    "# x[2] for number of Wraps\n",
    "\n",
    "#0 and 1000 define the upper and lower bound for the values x[0],x[1] and x[2] can take \n",
    "\n",
    "\n",
    "x = [solver_lin.NumVar(0, 1000,'x[%i]' % i) for i in range(3)]"
   ]
  },
  {
   "cell_type": "code",
   "execution_count": 4,
   "metadata": {
    "scrolled": true
   },
   "outputs": [
    {
     "data": {
      "text/plain": [
       "<ortools.linear_solver.pywraplp.Constraint; proxy of <Swig Object of type 'operations_research::MPConstraint *' at 0x00000192CBB446C0> >"
      ]
     },
     "execution_count": 4,
     "metadata": {},
     "output_type": "execute_result"
    }
   ],
   "source": [
    "#Step 2 - Add constraints\n",
    "solver_lin.Add(2*x[0] + x[1] + x[2] <= 1500)                           \n",
    "solver_lin.Add(x[0] + 3*x[1] + 2*x[2] <= 3000)                          \n",
    "solver_lin.Add(x[0] + 2*x[1] + 3*x[2] <= 4000)"
   ]
  },
  {
   "cell_type": "code",
   "execution_count": 6,
   "metadata": {
    "scrolled": true
   },
   "outputs": [
    {
     "data": {
      "text/plain": [
       "<ortools.linear_solver.pywraplp.Constraint; proxy of <Swig Object of type 'operations_research::MPConstraint *' at 0x00000192CBB44ED0> >"
      ]
     },
     "execution_count": 6,
     "metadata": {},
     "output_type": "execute_result"
    }
   ],
   "source": [
    "#Step 3 - Define objective function\n",
    "\n",
    "#Total population variable\n",
    "max_items_total = solver_lin.NumVar(0,3000,'max_items_total') \n",
    "\n",
    "#Since x[0], x[1] and x[2] already have constraints on them(1000 max), \n",
    "# whatever upperbound we define on max_items_total doesn't matter - it's just syntactical sugar\n",
    "\n",
    "solver_lin.Add(max_items_total == x[0] + x[1] + x[2])"
   ]
  },
  {
   "cell_type": "code",
   "execution_count": 7,
   "metadata": {},
   "outputs": [
    {
     "data": {
      "text/plain": [
       "0"
      ]
     },
     "execution_count": 7,
     "metadata": {},
     "output_type": "execute_result"
    }
   ],
   "source": [
    "#Step 5 - Set objevtive function and solve\n",
    "solver_lin.Maximize(max_items_total)                                \n",
    "solver_lin.Solve()  #Should return 0 if run successfully"
   ]
  },
  {
   "cell_type": "code",
   "execution_count": 26,
   "metadata": {
    "scrolled": true
   },
   "outputs": [
    {
     "name": "stdout",
     "output_type": "stream",
     "text": [
      "Total number of items we can cook is 1400 \n",
      "\n",
      "No of Biryanis we can cook is 100\n",
      "No of Bowls we can cook is 300\n",
      "No of wraps we can cook is 1000\n"
     ]
    }
   ],
   "source": [
    "print(\"Total number of items we can cook is\", round(max_items_total.SolutionValue()), \"\\n\")\n",
    "\n",
    "print(\"No of Biryanis we can cook is\", round(x[0].solution_value()))\n",
    "print(\"No of Bowls we can cook is\", round(x[1].solution_value()))\n",
    "print(\"No of wraps we can cook is\", round(x[2].solution_value()))\n"
   ]
  }
 ],
 "metadata": {
  "kernelspec": {
   "display_name": "Python 3",
   "language": "python",
   "name": "python3"
  },
  "language_info": {
   "codemirror_mode": {
    "name": "ipython",
    "version": 3
   },
   "file_extension": ".py",
   "mimetype": "text/x-python",
   "name": "python",
   "nbconvert_exporter": "python",
   "pygments_lexer": "ipython3",
   "version": "3.7.1"
  }
 },
 "nbformat": 4,
 "nbformat_minor": 2
}
